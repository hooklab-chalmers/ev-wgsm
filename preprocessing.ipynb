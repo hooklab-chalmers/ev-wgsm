{
 "cells": [
  {
   "cell_type": "code",
   "execution_count": 1,
   "id": "eef2e3f8-f851-4acf-8b88-24ed4280669d",
   "metadata": {},
   "outputs": [],
   "source": [
    "# Import functions for calculations\n",
    "from functions import *\n",
    "dir_org = 'example-data/'\n",
    "dir_project = 'example-data/processed'"
   ]
  },
  {
   "cell_type": "markdown",
   "id": "6f5882cc",
   "metadata": {},
   "source": [
    "First form the scattering frames, and add glycerol/iodixanol changes in the same .tiff file"
   ]
  },
  {
   "cell_type": "code",
   "execution_count": 3,
   "id": "d6bc40b0-59ce-4374-b0a5-b037f5e9bd11",
   "metadata": {},
   "outputs": [],
   "source": [
    "pos = [1, 2, 3]\n",
    "per = np.arange(1, 8, 1)\n",
    "\n",
    "for i in pos:\n",
    "    folder = f'01 Blank chip pos{i} 6mW-100ms'\n",
    "    frames = tf.imread((f'{dir_org}/{folder}/{folder}_MMStack_Pos0.ome.tif'))\n",
    "    frames = crop_by_half(frames, 'r')\n",
    "    I0 = np.mean(frames, axis = 0).astype(np.uint16)\n",
    "\n",
    "    folder = f'03 Silica beads 100nm pos{i} 6mW-100ms'\n",
    "    frames = tf.imread((f'{dir_org}/{folder}/{folder}_MMStack_Pos0.ome.tif'))\n",
    "    frames = crop_by_half(frames, 'r')\n",
    "    I1 = np.mean(frames, axis = 0).astype(np.uint16)\n",
    "\n",
    "    folder = f'05 5per biotin vesicles pos{i} 6mW-100ms'\n",
    "    frames = tf.imread((f'{dir_org}/{folder}/{folder}_MMStack_Pos0.ome.tif'))\n",
    "    frames = crop_by_half(frames, 'r')\n",
    "    I2 = np.mean(frames, axis = 0).astype(np.uint16)\n",
    "\n",
    "    folder = f'06 TREV pos{i} 6mW-100ms'\n",
    "    frames = tf.imread((f'{dir_org}/{folder}/{folder}_MMStack_Pos0.ome.tif'))\n",
    "    frames = crop_by_half(frames, 'r')\n",
    "    I3 = np.mean(frames, axis = 0).astype(np.uint16)\n",
    "\n",
    "    folder = f'10 After incubation pos{i} 6mW-100ms'\n",
    "    frames = tf.imread((f'{dir_org}/{folder}/{folder}_MMStack_Pos0.ome.tif'))\n",
    "    frames = crop_by_half(frames, 'r')\n",
    "    I4 = np.mean(frames, axis = 0).astype(np.uint16)\n",
    "\n",
    "    io = np.empty((16, 2048, 1024)).astype(np.uint16)\n",
    "\n",
    "    folder = f'16 After incubation pos{i} 6mW-100ms'\n",
    "    io_frame = tf.imread((f'{dir_org}/{folder}/{folder}_MMStack_Pos0.ome.tif'))\n",
    "    io_frame = crop_by_half(io_frame, 'r')\n",
    "    io[0, :, :] = np.mean(io_frame, axis=0).astype(np.uint16)\n",
    "\n",
    "    for j in range(0, len(per)):\n",
    "            name = f'Glycerol {per[j]} pos{i} 6mW-100ms'\n",
    "            io_frame = tf.imread((f'{dir_org}/{name}/{name}_MMStack_Pos0.ome.tif'))\n",
    "            io_frame = crop_by_half(io_frame, 'r')\n",
    "            io[j+1, :, :] = np.mean(io_frame, axis=0).astype(np.uint16)\n",
    "\n",
    "            name = f'Optiprep {per[j]} pos{i} 6mW-100ms'\n",
    "            io_frame = tf.imread((f'{dir_org}/{name}/{name}_MMStack_Pos0.ome.tif'))\n",
    "            io_frame = crop_by_half(io_frame, 'r')\n",
    "            io[j+9, :, :] = np.mean(io_frame, axis=0).astype(np.uint16)\n",
    "\n",
    "    folder = f'Back to PBS pos{i} 6mW-100ms'\n",
    "    io_frame = tf.imread((f'{dir_org}/{folder}/{folder}_MMStack_Pos0.ome.tif'))\n",
    "    io_frame = crop_by_half(io_frame, 'r')\n",
    "    io[8, :, :] = np.mean(io_frame, axis=0).astype(np.uint16)\n",
    "    \n",
    "    tf.imwrite(f'{dir_project}/Exp_particles_not_aligned_pos{i}.tif', \\\n",
    "        np.concatenate((np.stack((I0, I1, I2, I3, I4)), io), axis=0), photometric='minisblack')"
   ]
  },
  {
   "cell_type": "markdown",
   "id": "08b2401f",
   "metadata": {},
   "source": [
    "Align the frames"
   ]
  },
  {
   "cell_type": "code",
   "execution_count": 4,
   "id": "98ea496d",
   "metadata": {},
   "outputs": [],
   "source": [
    "pos = 1\n",
    "file = f'Exp_particles_not_aligned_pos{pos}'\n",
    "path = f'{dir_project}/{file}.tif'\n",
    "frames = tf.imread(path)\n",
    "\n",
    "crop = 100\n",
    "template_frame = 1\n",
    "template = make_template(frames, template_frame, crop)\n",
    "frames_out = frames.copy()\n",
    "for i, frame in enumerate(frames):\n",
    "    if i != template_frame:\n",
    "        frames_out[i] = template_matching(frames[i], template, crop)\n",
    "\n",
    "outFilename = f'{dir_project}/Exp_particles_aligned_pos{pos}.tif'\n",
    "tf.imwrite(outFilename, frames_out, photometric='minisblack')\n",
    "\n",
    "pos = 2\n",
    "file = f'Exp_particles_not_aligned_pos{pos}'\n",
    "path = f'{dir_project}/{file}.tif'\n",
    "frames = tf.imread(path)\n",
    "\n",
    "crop = 100\n",
    "template_frame = 1\n",
    "template = make_template(frames, template_frame, crop)\n",
    "frames_out = frames.copy()\n",
    "for i, frame in enumerate(frames):\n",
    "    if i != template_frame:\n",
    "        if i == 4 or i == 5:\n",
    "            sz = frames[i].shape\n",
    "            tform = np.float32([[1,0,115],[0,1,0]])\n",
    "            frames[i] = cv2.warpAffine(frames[i], tform, (sz[1], sz[0]), flags=cv2.INTER_LINEAR)\n",
    "        frames_out[i] = template_matching(frames[i], template, crop)\n",
    "\n",
    "outFilename = f'{dir_project}/Exp_particles_aligned_pos{pos}.tif'\n",
    "tf.imwrite(outFilename, frames_out, photometric='minisblack')\n",
    "\n",
    "pos = 3\n",
    "file = f'Exp_particles_not_aligned_pos{pos}'\n",
    "path = f'{dir_project}/{file}.tif'\n",
    "frames = tf.imread(path)\n",
    "\n",
    "crop = 100\n",
    "template_frame = 1\n",
    "template = make_template(frames, template_frame, crop)\n",
    "frames_out = frames.copy()\n",
    "for i, frame in enumerate(frames):\n",
    "    if i != template_frame:\n",
    "        frames_out[i] = template_matching(frames[i], template, crop)\n",
    "\n",
    "outFilename = f'{dir_project}/Exp_particles_aligned_pos{pos}.tif'\n",
    "tf.imwrite(outFilename, frames_out, photometric='minisblack')"
   ]
  },
  {
   "cell_type": "markdown",
   "id": "2917a446",
   "metadata": {},
   "source": [
    "Form the fluorescence frames"
   ]
  },
  {
   "cell_type": "code",
   "execution_count": 5,
   "id": "c319f342",
   "metadata": {},
   "outputs": [],
   "source": [
    "pos = [1, 2, 3]\n",
    "\n",
    "for i in pos:\n",
    "\n",
    "    folder = f'09 After incubation pos{i} 6mW-500ms'\n",
    "    frames = tf.imread((f'{dir_org}/{folder}/{folder}_MMStack_Pos0.ome.tif'))\n",
    "    I0 = crop_by_half(frames, 'l').astype(np.uint16)\n",
    "\n",
    "    folder = f'15 After incubation pos{i} 6mW-500ms'\n",
    "    frames = tf.imread((f'{dir_org}/{folder}/{folder}_MMStack_Pos0.ome.tif'))\n",
    "    I1 = crop_by_half(frames, 'l').astype(np.uint16)\n",
    "\n",
    "    folder = f'11 After incubation red pos{i} 1200mV-500ms'\n",
    "    frames = tf.imread((f'{dir_org}/{folder}/{folder}_MMStack_Pos0.ome.tif'))\n",
    "    I2 = crop_by_half(frames, 'l').astype(np.uint16)\n",
    "\n",
    "    tf.imwrite(f'{dir_project}/fl_not_aligned_pos{i}.tif', np.stack((I0, I1, I2)), photometric='minisblack')"
   ]
  },
  {
   "cell_type": "markdown",
   "id": "ee057acc",
   "metadata": {},
   "source": [
    "Form the time-resolved antibody binding frames (scattering and fluorescence)"
   ]
  },
  {
   "cell_type": "code",
   "execution_count": 6,
   "id": "249dbad2",
   "metadata": {},
   "outputs": [
    {
     "name": "stderr",
     "output_type": "stream",
     "text": [
      "<tifffile.TiffFile '07 CD9 CD41 AB …ack_Pos0.ome.tif'> MMStack series is missing files. Returning subset (23, 1, 1, 1) of (500, 1, 1, 1)\n",
      "<tifffile.TiffFile '13 Anti-biotin …ack_Pos0.ome.tif'> MMStack series is missing files. Returning subset (22, 1, 1, 1) of (500, 1, 1, 1)\n"
     ]
    }
   ],
   "source": [
    "folder = f'Exp_particles_aligned_pos1.tif'\n",
    "frames = tf.imread(f'{dir_project}/{folder}')\n",
    "frame0 = frames[3]\n",
    "\n",
    "folder = f'07 CD9 CD41 AB 1ugml binding 6mW-200ms'\n",
    "frames = tf.imread((f'{dir_org}/{folder}/{folder}_MMStack_Pos0.ome.tif'))\n",
    "frames_sc = crop_by_half(frames, 'r').astype(np.uint16)\n",
    "frames_fl = crop_by_half(frames, 'l').astype(np.uint16)\n",
    "tf.imwrite(f'{dir_project}/AB_binding1_sc.tif', \\\n",
    "        np.concatenate(([frame0], frames_sc), axis=0), photometric='minisblack')\n",
    "tf.imwrite(f'{dir_project}/AB_binding1_fl.tif', \\\n",
    "        np.concatenate(([frames_fl[-1]], frames_fl), axis=0), photometric='minisblack')\n",
    "\n",
    "folder = f'13 Anti-biotin AB 5ugml binding 7min 6mW-200ms'\n",
    "frames = tf.imread((f'{dir_org}/{folder}/{folder}_MMStack_Pos0.ome.tif'))\n",
    "frames_sc = crop_by_half(frames, 'r').astype(np.uint16)\n",
    "frames_fl = crop_by_half(frames, 'l').astype(np.uint16)\n",
    "tf.imwrite(f'{dir_project}/AB_binding2_sc.tif', \\\n",
    "        np.concatenate(([frame0], frames_sc), axis=0), photometric='minisblack')\n",
    "tf.imwrite(f'{dir_project}/AB_binding2_fl.tif', \\\n",
    "        np.concatenate(([frames_fl[-1]], frames_fl), axis=0), photometric='minisblack')"
   ]
  },
  {
   "cell_type": "code",
   "execution_count": 7,
   "id": "d36179c3",
   "metadata": {},
   "outputs": [],
   "source": [
    "file = f'AB_binding1_sc'\n",
    "path = f'{dir_project}/{file}.tif'\n",
    "frames = tf.imread(path)\n",
    "\n",
    "crop = 100\n",
    "template_frame = 0\n",
    "template = make_template(frames, template_frame, crop)\n",
    "frames_out = frames.copy()\n",
    "for i, frame in enumerate(frames):\n",
    "    if i != template_frame:\n",
    "        frames_out[i] = template_matching(frames[i], template, crop)\n",
    "\n",
    "outFilename = f'{dir_project}/AB_binding1_aligned_sc.tif'\n",
    "tf.imwrite(outFilename, frames_out, photometric='minisblack')\n",
    "\n",
    "file = f'AB_binding2_sc'\n",
    "path = f'{dir_project}/{file}.tif'\n",
    "frames = tf.imread(path)\n",
    "\n",
    "crop = 100\n",
    "template_frame = 0\n",
    "template = make_template(frames, template_frame, crop)\n",
    "frames_out = frames.copy()\n",
    "for i, frame in enumerate(frames):\n",
    "    if i != template_frame:\n",
    "        frames_out[i] = template_matching(frames[i], template, crop)\n",
    "\n",
    "outFilename = f'{dir_project}/AB_binding2_aligned_sc.tif'\n",
    "tf.imwrite(outFilename, frames_out, photometric='minisblack')"
   ]
  },
  {
   "cell_type": "code",
   "execution_count": 9,
   "id": "7ea5815c",
   "metadata": {},
   "outputs": [
    {
     "name": "stderr",
     "output_type": "stream",
     "text": [
      "<tifffile.TiffFile '02 Silica beads …ck_Pos0.ome.tif'> MMStack series is missing files. Returning subset (163, 1, 1, 1) of (500, 1, 1, 1)\n"
     ]
    }
   ],
   "source": [
    "folder = f'Exp_particles_aligned_pos1.tif'\n",
    "frames0 = tf.imread(f'{dir_project}/{folder}')\n",
    "\n",
    "folder = f'02 Silica beads 100nm 5e9 2 min 6mW-100ms'\n",
    "frames = tf.imread((f'{dir_org}/{folder}/{folder}_MMStack_Pos0.ome.tif'))\n",
    "frames = crop_by_half(frames, 'r')\n",
    "\n",
    "crop = 100\n",
    "template_frame = 1\n",
    "template = make_template(frames0, template_frame, crop)\n",
    "frames_out = frames.copy()\n",
    "for i, frame in enumerate(frames):\n",
    "    if i != template_frame:\n",
    "        frames_out[i] = template_matching(frames[i], template, crop)\n",
    "\n",
    "outFilename = f'{dir_project}/SNP_binding.tif'\n",
    "tf.imwrite(outFilename, frames_out, photometric='minisblack')"
   ]
  },
  {
   "cell_type": "code",
   "execution_count": 10,
   "id": "fbcb871f",
   "metadata": {},
   "outputs": [
    {
     "name": "stderr",
     "output_type": "stream",
     "text": [
      "<tifffile.TiffFile '06 Binding TREVs…ck_Pos0.ome.tif'> MMStack series is missing files. Returning subset (446, 1, 1, 1) of (500, 1, 1, 1)\n"
     ]
    }
   ],
   "source": [
    "folder = f'Exp_particles_aligned_pos1.tif'\n",
    "frames0 = tf.imread(f'{dir_project}/{folder}')\n",
    "\n",
    "folder = f'06 Binding TREVs at 1e10 8min 6mW-100ms'\n",
    "frames = tf.imread((f'{dir_org}/{folder}/{folder}_MMStack_Pos0.ome.tif'))\n",
    "frames = crop_by_half(frames, 'r')\n",
    "\n",
    "crop = 100\n",
    "template_frame = 2\n",
    "template = make_template(frames0, template_frame, crop)\n",
    "frames_out = frames.copy()\n",
    "for i, frame in enumerate(frames):\n",
    "    frames_out[i] = template_matching(frames[i], template, crop)\n",
    "\n",
    "outFilename = f'{dir_project}/EV_binding.tif'\n",
    "tf.imwrite(outFilename, frames_out, photometric='minisblack')"
   ]
  }
 ],
 "metadata": {
  "kernelspec": {
   "display_name": "imganal_202302",
   "language": "python",
   "name": "python3"
  },
  "language_info": {
   "codemirror_mode": {
    "name": "ipython",
    "version": 3
   },
   "file_extension": ".py",
   "mimetype": "text/x-python",
   "name": "python",
   "nbconvert_exporter": "python",
   "pygments_lexer": "ipython3",
   "version": "3.10.9"
  },
  "vscode": {
   "interpreter": {
    "hash": "5aa53d7d808a52d239cb8391a43de738d2fa9c501e8e3489093a76bcd2fd4b1b"
   }
  }
 },
 "nbformat": 4,
 "nbformat_minor": 5
}
